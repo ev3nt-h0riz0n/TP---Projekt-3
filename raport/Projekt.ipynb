{
 "cells": [
  {
   "cell_type": "markdown",
   "id": "e1cca835-f8ec-4e5e-abd7-0578cf6bf1e3",
   "metadata": {},
   "source": [
    "# Projekt z Technik Programowania\n",
    "## Autorzy: Dorian Neumann (198415), Antoni Sulkowski (197564)\n",
    "\n",
    "Biblioteka sygnaly.lib ma za zadanie\n",
    "- Wizualizować sygnały sinusoidalne, cosinusoidalne, prostokątne i piłokształtne o zadanej częstotliwości\n",
    "- Wizuwalizować sygnał dźwiękowy o rozszerzeniu .wav oraz jego autokorelacje\n",
    "\n",
    " A do jego realizacji użyto bibliotek:\n",
    "\n",
    "- pybind11 (https://github.com/pybind/pybind11)\n",
    "- matplotplusplus (https://github.com/alandefreitas/matplotplusplus)\n",
    "- libsndfile (https://github.com/libsndfile/libsndfile)\n",
    "\n",
    "Aby zaimportować bibliotekę należy wpisać w Pythonie:"
   ]
  },
  {
   "cell_type": "code",
   "execution_count": 2,
   "id": "2ea80b6b-1b6e-4fef-bd0e-03dbaa31387d",
   "metadata": {},
   "outputs": [],
   "source": [
    "import sygnaly"
   ]
  },
  {
   "cell_type": "markdown",
   "id": "d3eb91bd-541b-4fbf-a15d-2faf54f63945",
   "metadata": {},
   "source": [
    "## Generowanie sygnału o zadanej częstotliwości\n",
    "### Sygnał sinusoidalny\n",
    "Aby wygenerować sygnał sinusoidalny należy wpisać 'sygnały.sin(f)', gdzie f oznacza częstotliwość w herzach.\n",
    "Dla przykładu wygeneruje sygnał sinusoidalny o częstotliwości 3Hz. \n",
    "Warto zauważyć, że zwracaną wartością jest 0. Oznacza to, że wszystko przebiegło pomyślnie."
   ]
  },
  {
   "cell_type": "code",
   "execution_count": 3,
   "id": "1a61e91f-fc4b-4c00-aa3a-bea9c744b862",
   "metadata": {},
   "outputs": [
    {
     "data": {
      "text/plain": [
       "0"
      ]
     },
     "execution_count": 3,
     "metadata": {},
     "output_type": "execute_result"
    }
   ],
   "source": [
    "sygnaly.sin(3)"
   ]
  },
  {
   "cell_type": "markdown",
   "id": "2224e71f-1972-4dd6-9ced-7a571b82dbd9",
   "metadata": {},
   "source": [
    "![Wykres sinusa o częstotliwości 3Hz](sinus.png)"
   ]
  },
  {
   "cell_type": "markdown",
   "id": "80498bb8-df66-4c03-9d77-df3f514a8d6a",
   "metadata": {},
   "source": [
    "### Sygnał cosinusoidalny\n",
    "Generowanie wykresu sygnału cosinusoidalnego jest analogiczne. Wystarczy wpisać 'sygnaly.cos(f)', gdzie f - częstotliwość w herzach.\n",
    "Jako przykład wydrukuję sygnał cosinusoidalny o częstotliwości 2Hz."
   ]
  },
  {
   "cell_type": "code",
   "execution_count": 4,
   "id": "a39664ec-5e61-4cd4-b22e-87a01294ea37",
   "metadata": {},
   "outputs": [
    {
     "data": {
      "text/plain": [
       "0"
      ]
     },
     "execution_count": 4,
     "metadata": {},
     "output_type": "execute_result"
    }
   ],
   "source": [
    "sygnaly.cos(2)"
   ]
  },
  {
   "cell_type": "markdown",
   "id": "85b0b84e-3180-4015-b380-3df64fdecf87",
   "metadata": {},
   "source": [
    "![Wykres cosinusa o częstotliwości 2Hz](cosinus.png)"
   ]
  },
  {
   "cell_type": "markdown",
   "id": "ad676de0-c3c8-490d-b690-fa72be1daa6a",
   "metadata": {},
   "source": [
    "### Sygnał piłokształtny\n",
    "Komendą służącą do druku wykresu sygnału piłokształtnego jest komenda 'sygnaly.pilo(f)', f - częstotliwość w herzach.\n",
    "Przykład: Sygnał piłokształtny o częstotliwości 2Hz."
   ]
  },
  {
   "cell_type": "code",
   "execution_count": 5,
   "id": "34cdbb7e-29ba-4bbf-a7e4-205f26bfcd32",
   "metadata": {},
   "outputs": [
    {
     "data": {
      "text/plain": [
       "0"
      ]
     },
     "execution_count": 5,
     "metadata": {},
     "output_type": "execute_result"
    }
   ],
   "source": [
    "sygnaly.pilo(2)"
   ]
  },
  {
   "cell_type": "markdown",
   "id": "dccf9273-fbcd-4aaf-ba8d-12fbeb802a87",
   "metadata": {},
   "source": [
    "![Wykres sygnału piłokształtnego o częstotliwości 2Hz](piloksztaltny.png)"
   ]
  },
  {
   "cell_type": "markdown",
   "id": "d82b2fec-beb3-472a-b6dc-5bc20931eb4b",
   "metadata": {},
   "source": [
    "### Sygnał prostokątny\n",
    "Sygnał prostokątny różni sie odrobinę od poprzednich sygnałów. Poza częstotliwością możemy przypisać mu współczynnik wypełnienia.\n",
    "Funckję tę wywołujemy wprowadzając do konsoli 'sygnaly.prosto(f, w)', gdzie f - częstotliwość w herzach, natomiast w - współczynnik wypełnienia.\n",
    "Jak przykład wprowadzę sygnał o częstotliwości 2Hz oraz współczynnikiem wypełnienia równym 0.4. Warto zaznaczyć, że w powinno nalezeć do przedziału [0,1]."
   ]
  },
  {
   "cell_type": "code",
   "execution_count": 7,
   "id": "a8389395-b24a-4d58-95d1-a7a8bc140eb1",
   "metadata": {},
   "outputs": [
    {
     "data": {
      "text/plain": [
       "0"
      ]
     },
     "execution_count": 7,
     "metadata": {},
     "output_type": "execute_result"
    }
   ],
   "source": [
    "sygnaly.prosto(2, 0.4)"
   ]
  },
  {
   "cell_type": "markdown",
   "id": "10bcbf4c-0452-44a9-ac8f-8fc8ecbda086",
   "metadata": {},
   "source": [
    "![Wykres sygnału prostokątnego o częstotliwości 2Hz i współczyniku wypełnienia równym 0.4](prostokatny.png)"
   ]
  },
  {
   "cell_type": "markdown",
   "id": "aed8c0d2-e953-4bb8-a303-3c308076c998",
   "metadata": {},
   "source": [
    "## Wizualizacja sygnału z rozszerzeniem .wav\n",
    "Ta funkcja pozwala na wizualizację dowolnego sygnału zapisanego w formacie .wav. Pierwszym krokiem, aby uruchomić funkcję jest znalezienie ścieżki do pliku audio, którego chcemy użyć. Następnie należy wprowadzić komendę 'sygnaly.wizualizacja(\"sciezka//do//pliku//plik.wav\", n)'. N to dzielnik, który pozwala na zmniejszenie ilości próbek w sygnale, co zminimalizuje obciążenie programu i ograniczy jego potencjalne zcięcia.\n",
    "\n",
    "Jako przykład użyję 3 sekundowy plik audio.wav (pobrany z https://www2.cs.uic.edu/~i101/SoundFiles/) oraz pomniejsze liczbę próbke dziesięciokrotnie.\n",
    "\n",
    "__Uwaga: Do pliku audio.wav nie prowadzę pełnej scieżki, ponieważ znajduje się w tym samym miejscu co jupyter notebook. Natomiast przy prowadzeniu dłuższej ścieżki należy pamiętać, aby pomiędzy elementami ścieżki użyć dwóch ukośników.__"
   ]
  },
  {
   "cell_type": "code",
   "execution_count": 5,
   "id": "80b47806-f690-4950-916a-aaf8cba86f55",
   "metadata": {},
   "outputs": [
    {
     "data": {
      "text/plain": [
       "0"
      ]
     },
     "execution_count": 5,
     "metadata": {},
     "output_type": "execute_result"
    }
   ],
   "source": [
    "sygnaly.wizualizacja(\"audio.wav\", 10)"
   ]
  },
  {
   "cell_type": "markdown",
   "id": "f9db1c64-30da-4c43-a1c8-83e71126fb8a",
   "metadata": {},
   "source": [
    "![Wykres wizualizujący sygnał dźwiękowy audio.wav](audio.png)"
   ]
  },
  {
   "cell_type": "markdown",
   "id": "d63fe6ab-0937-400f-a8bf-5c18f466cb1e",
   "metadata": {},
   "source": [
    "Wraz z wizualizacją sygnału wydrukuje się także wykres jego autokorelacji.\n"
   ]
  },
  {
   "cell_type": "markdown",
   "id": "02cc4007-597f-40d6-b1d4-2b84af2daee2",
   "metadata": {},
   "source": [
    "![wykres autokorelacji pliku .wav](autokorelacja.png)"
   ]
  },
  {
   "cell_type": "markdown",
   "id": "bb83aab9-9ea7-4f34-8ee7-e57d004156b8",
   "metadata": {},
   "source": [
    "## Budowa biblioteki\n",
    "Po sciągnięciu pliku sygnaly.cpp oraz CMakeLists.txt należy skonfigurować plik CMakeLists.txt, tak aby odpowiadał ścieżkom użytkownika.\n",
    "Po konfiguracji należy umieścić oba pliki w jednym folderze, do gitbasha wprowadzić:"
   ]
  },
  {
   "cell_type": "raw",
   "id": "e61df94d-a155-4d90-99ce-cb8d4f379369",
   "metadata": {},
   "source": [
    "mkdir build\n",
    "cd build\n",
    "cmake ..\n",
    "cmake --build . --config Release"
   ]
  },
  {
   "cell_type": "markdown",
   "id": "aa752dc8-cb15-4b3a-bc68-e578ec6c1161",
   "metadata": {},
   "source": [
    "Biblioteka będzie wówczas gotowa do użytku"
   ]
  }
 ],
 "metadata": {
  "kernelspec": {
   "display_name": "Python 3 (ipykernel)",
   "language": "python",
   "name": "python3"
  },
  "language_info": {
   "codemirror_mode": {
    "name": "ipython",
    "version": 3
   },
   "file_extension": ".py",
   "mimetype": "text/x-python",
   "name": "python",
   "nbconvert_exporter": "python",
   "pygments_lexer": "ipython3",
   "version": "3.12.2"
  }
 },
 "nbformat": 4,
 "nbformat_minor": 5
}
